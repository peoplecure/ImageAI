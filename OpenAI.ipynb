{
 "cells": [
  {
   "cell_type": "code",
   "execution_count": 2,
   "metadata": {},
   "outputs": [
    {
     "name": "stdout",
     "output_type": "stream",
     "text": [
      "Collecting imageai\n",
      "  Downloading imageai-2.1.6-py3-none-any.whl (160 kB)\n",
      "\u001b[K     |████████████████████████████████| 160 kB 253 kB/s eta 0:00:01\n",
      "\u001b[?25hRequirement already satisfied: opencv-python in /Users/Muhad/anaconda3/lib/python3.8/site-packages (from imageai) (4.4.0.46)\n",
      "Requirement already satisfied: matplotlib==3.3.2 in /Users/Muhad/anaconda3/lib/python3.8/site-packages (from imageai) (3.3.2)\n",
      "Collecting h5py==2.10.0\n",
      "  Downloading h5py-2.10.0-cp38-cp38-macosx_10_9_x86_64.whl (3.0 MB)\n",
      "\u001b[K     |████████████████████████████████| 3.0 MB 40 kB/s eta 0:00:01     |██████████████▉                 | 1.4 MB 84 kB/s eta 0:00:19\n",
      "\u001b[?25hRequirement already satisfied: six in /Users/Muhad/anaconda3/lib/python3.8/site-packages (from h5py==2.10.0->imageai) (1.15.0)\n",
      "Collecting keras==2.4.3\n",
      "  Downloading Keras-2.4.3-py2.py3-none-any.whl (36 kB)\n",
      "Requirement already satisfied: pyyaml in /Users/Muhad/anaconda3/lib/python3.8/site-packages (from keras==2.4.3->imageai) (5.3.1)\n",
      "Collecting keras-resnet==0.2.0\n",
      "  Downloading keras-resnet-0.2.0.tar.gz (9.3 kB)\n",
      "Requirement already satisfied: python-dateutil>=2.1 in /Users/Muhad/anaconda3/lib/python3.8/site-packages (from matplotlib==3.3.2->imageai) (2.8.1)\n",
      "Requirement already satisfied: certifi>=2020.06.20 in /Users/Muhad/anaconda3/lib/python3.8/site-packages (from matplotlib==3.3.2->imageai) (2020.12.5)\n",
      "Requirement already satisfied: cycler>=0.10 in /Users/Muhad/anaconda3/lib/python3.8/site-packages (from matplotlib==3.3.2->imageai) (0.10.0)\n",
      "Requirement already satisfied: pyparsing!=2.0.4,!=2.1.2,!=2.1.6,>=2.0.3 in /Users/Muhad/anaconda3/lib/python3.8/site-packages (from matplotlib==3.3.2->imageai) (2.4.7)\n",
      "Requirement already satisfied: kiwisolver>=1.0.1 in /Users/Muhad/anaconda3/lib/python3.8/site-packages (from matplotlib==3.3.2->imageai) (1.3.0)\n",
      "Collecting numpy==1.19.3\n",
      "  Downloading numpy-1.19.3-cp38-cp38-macosx_10_9_x86_64.whl (15.9 MB)\n",
      "\u001b[K     |████████████████████████████████| 15.9 MB 48 kB/s eta 0:00:019    |████████▏                       | 4.1 MB 77 kB/s eta 0:02:33     |█████████████████████▏          | 10.5 MB 40 kB/s eta 0:02:11\n",
      "\u001b[?25hCollecting pillow==7.0.0\n",
      "  Downloading Pillow-7.0.0-cp38-cp38-macosx_10_9_x86_64.whl (2.1 MB)\n",
      "\u001b[K     |████████████████████████████████| 2.1 MB 51 kB/s eta 0:00:01    |▉                               | 51 kB 60 kB/s eta 0:00:34     |████████████                    | 788 kB 39 kB/s eta 0:00:34\n",
      "\u001b[?25hCollecting scipy==1.4.1\n",
      "  Downloading scipy-1.4.1-cp38-cp38-macosx_10_9_x86_64.whl (28.8 MB)\n",
      "\u001b[K     |████████████████████████████████| 28.8 MB 87 kB/s eta 0:00:013     |██████████████▎                 | 12.9 MB 66 kB/s eta 0:04:00\n",
      "\u001b[?25hBuilding wheels for collected packages: keras-resnet\n",
      "  Building wheel for keras-resnet (setup.py) ... \u001b[?25ldone\n",
      "\u001b[?25h  Created wheel for keras-resnet: filename=keras_resnet-0.2.0-py2.py3-none-any.whl size=20486 sha256=c6a476e27f62a5c5437cd89c217cc4e2015c6e1e8be36055810d64db4f6fd61e\n",
      "  Stored in directory: /Users/Muhad/Library/Caches/pip/wheels/be/90/98/9d455f04a7ca277366b36c660c89d171ff5abb7bdd8a8b8e75\n",
      "Successfully built keras-resnet\n",
      "Installing collected packages: numpy, scipy, h5py, pillow, keras, keras-resnet, imageai\n",
      "  Attempting uninstall: numpy\n",
      "    Found existing installation: numpy 1.19.4\n",
      "    Uninstalling numpy-1.19.4:\n",
      "      Successfully uninstalled numpy-1.19.4\n",
      "  Attempting uninstall: scipy\n",
      "    Found existing installation: scipy 1.5.2\n",
      "    Uninstalling scipy-1.5.2:\n",
      "      Successfully uninstalled scipy-1.5.2\n",
      "  Attempting uninstall: h5py\n",
      "    Found existing installation: h5py 3.1.0\n",
      "    Uninstalling h5py-3.1.0:\n",
      "      Successfully uninstalled h5py-3.1.0\n",
      "  Attempting uninstall: pillow\n",
      "    Found existing installation: Pillow 8.0.1\n",
      "    Uninstalling Pillow-8.0.1:\n",
      "      Successfully uninstalled Pillow-8.0.1\n",
      "  Attempting uninstall: keras\n",
      "    Found existing installation: Keras 2.2.0\n",
      "    Uninstalling Keras-2.2.0:\n",
      "      Successfully uninstalled Keras-2.2.0\n",
      "\u001b[31mERROR: pip's dependency resolver does not currently take into account all the packages that are installed. This behaviour is the source of the following dependency conflicts.\n",
      "pyautogui 0.9.48 requires mouseinfo, which is not installed.\n",
      "pyautogui 0.9.48 requires pygetwindow>=0.0.5, which is not installed.\n",
      "tf-nightly 2.5.0.dev20210223 requires h5py~=3.1.0, but you have h5py 2.10.0 which is incompatible.\n",
      "tensorflow 2.4.0 requires gast==0.3.3, but you have gast 0.4.0 which is incompatible.\n",
      "tensorflow 2.4.0 requires grpcio~=1.32.0, but you have grpcio 1.34.1 which is incompatible.\n",
      "bokeh 2.2.3 requires pillow>=7.1.0, but you have pillow 7.0.0 which is incompatible.\u001b[0m\n",
      "Successfully installed h5py-2.10.0 imageai-2.1.6 keras-2.4.3 keras-resnet-0.2.0 numpy-1.19.3 pillow-7.0.0 scipy-1.4.1\n",
      "Note: you may need to restart the kernel to use updated packages.\n"
     ]
    }
   ],
   "source": [
    "pip install imageai --upgrade"
   ]
  },
  {
   "cell_type": "code",
   "execution_count": 14,
   "metadata": {},
   "outputs": [
    {
     "name": "stdout",
     "output_type": "stream",
     "text": [
      "WARNING:tensorflow:No training configuration found in the save file, so the model was *not* compiled. Compile it manually.\n",
      "dog  :  96.4820146560669\n",
      "dog  :  81.08539581298828\n",
      "bed  :  78.15594673156738\n",
      "dog  :  66.49945974349976\n"
     ]
    }
   ],
   "source": [
    "from imageai.Detection import ObjectDetection\n",
    "import os\n",
    "\n",
    "execution_path = os.getcwd()\n",
    "\n",
    "detector = ObjectDetection()\n",
    "detector.setModelTypeAsRetinaNet()\n",
    "detector.setModelPath( os.path.join(execution_path , \"resnet50_coco_best_v2.1.0.h5\"))\n",
    "detector.loadModel()\n",
    "detections = detector.detectObjectsFromImage(input_image=os.path.join(execution_path , \"image.jpg\"), \n",
    "                                             output_image_path=os.path.join(execution_path , \"imagenew.jpg\"))\n",
    "\n",
    "for eachObject in detections:\n",
    "    print(eachObject[\"name\"] , \" : \" , eachObject[\"percentage_probability\"] )"
   ]
  },
  {
   "cell_type": "code",
   "execution_count": 15,
   "metadata": {},
   "outputs": [],
   "source": [
    "from imageai.Detection.Custom import CustomObjectDetection\n",
    "\n",
    "detector = CustomObjectDetection()\n",
    "detector.setModelTypeAsYOLOv3()\n",
    "detector.setModelPath(\"detection_model-ex-010--loss-0044.074.h5\")\n",
    "detector.setJsonPath(\"./custom/puzzle/json/detection_config.json\")\n",
    "detector.loadModel()\n",
    "detections = detector.detectObjectsFromImage(input_image=\"image.jpg\", output_image_path=\"image_detected.jpg\")\n",
    "for detection in detections:\n",
    "    print(detection[\"name\"], \" : \", detection[\"percentage_probability\"], \" : \", detection[\"box_points\"])"
   ]
  }
 ],
 "metadata": {
  "kernelspec": {
   "display_name": "Python 3",
   "language": "python",
   "name": "python3"
  },
  "language_info": {
   "codemirror_mode": {
    "name": "ipython",
    "version": 3
   },
   "file_extension": ".py",
   "mimetype": "text/x-python",
   "name": "python",
   "nbconvert_exporter": "python",
   "pygments_lexer": "ipython3",
   "version": "3.8.5"
  }
 },
 "nbformat": 4,
 "nbformat_minor": 4
}
